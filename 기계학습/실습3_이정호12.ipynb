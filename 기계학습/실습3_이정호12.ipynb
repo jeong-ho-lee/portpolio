{
  "cells": [
    {
      "cell_type": "markdown",
      "metadata": {
        "id": "x369gRhQGSKt"
      },
      "source": [
        "# [SWCON253] Machine Learning\n",
        "Teaching Assistant: Yeongwoong Kim (duddnd7575@khu.ac.kr)\n",
        "\n",
        "Professor: Jinwoo Choi (jinwoochoi@khu.ac.kr)"
      ]
    },
    {
      "cell_type": "markdown",
      "metadata": {
        "id": "j_cLCMlNGSKw"
      },
      "source": [
        "---"
      ]
    },
    {
      "cell_type": "markdown",
      "metadata": {
        "id": "qHd4zuLrGSKw"
      },
      "source": [
        "# P3:  Deep Learning Framwork: Pytorch를 이용하여 MLP 구현 (10점)\n",
        "\n",
        "### 학습목표\n",
        "- pytorch를 사용하여 구현된 MLP 구조를 이해하고 수정할수 있다.\n",
        "- Fashinon-MNIST 문제를 스스로 해결하면서 딥러닝 학습과정을 이해하고 하이퍼파라미터를 튜닝을 할 수 있다.\n",
        "\n",
        "### 실습내용\n",
        "pytorch를 사용하여 구현 되어 있는 MLP를 통해 Fashion-MNIST 데이터셋을 분류하는 classfier를 학습합니다.\n",
        "\n",
        "실습은 다음 순서로 진행됩니다.\n",
        "- 1) Fashon-MNIST 데이터셋 설명\n",
        "- 2) Data loading\n",
        "- 3) Multilayer Perceptron Model\n",
        "- 4) Training\n",
        "- 5) Evaluation\n",
        "- 6) Discussion\n",
        "\n",
        "아래 코드에는 2개의 퍼셉트론은 이용한 MLP 모델이 정의 되어 있습니다.\n",
        "실습을 시작하기전에 이 노트북 파일을 읽고 모든 셀을 실행해하여 올바르게 작동하는지 확인하세요.<br>\n",
        "이후에 아키텍쳐를 마음껏 변경하여 최고의 성능이 나오도록 수정해 보세요.\n",
        "\n",
        "**1. 다음은 변경 가능한 부분입니다.**\n",
        "- activation 함수 (logistic sigmoid, tanh, relu, leaky relu, ...)\n",
        "- learning rate\n",
        "- hidden layers 갯수\n",
        "- epochs\n",
        "- minibatch size\n",
        "- 각 hidden layer의 neuron 개수\n",
        "\n",
        "**2. 그러나 다음 사항은 변경하지 마세요.**\n",
        "- 가중치 초기화 방법\n",
        "- 랜덤시드\n",
        "- 최적화 방법, 학습 방법\n",
        "\n",
        "**3. layer를 추가하여 2개 이상의 hidden layer를 구성할 수 있게 구현하세요.**\n",
        "\n",
        "**4. 수정가능한 셀은 아래 주석으로 확실하게 하이라이트되어 표시되어 있습니다.**\n",
        "\n",
        "```\n",
        "############################################################\n",
        "# 변경 가능한 셀\n",
        "############################################################\n",
        "```\n",
        "\n",
        "### 점수\n",
        "**Test set 기준**\n",
        "\n",
        "- 정확도 85% 이상 2점\n",
        "- 정확도 86% 이상 4점\n",
        "- 정확도 87% 이상 6점\n",
        "- 정확도 88% 이상 8점\n",
        "\n",
        "**구현**\n",
        "- Layer 수 2개 이상으로 구현: 2점\n",
        "\n",
        "`.ipynb 파일과 함께 .html 파일 (File -> export as -> HTML)도 함께 제출하세요. 하나만 제출할시 감점이 있습니다.`"
      ]
    },
    {
      "cell_type": "code",
      "execution_count": null,
      "metadata": {
        "id": "UPDgNXDxGSKx"
      },
      "outputs": [],
      "source": [
        "import torch\n",
        "import os\n",
        "import numpy as np\n",
        "import time\n",
        "import random\n",
        "from PIL import Image\n",
        "from torch.utils.data import Dataset\n",
        "from torchvision import transforms\n",
        "from torch.utils.data import DataLoader\n",
        "import torch.nn.functional as F\n",
        "# Document: https://pytorch.org/docs/stable/nn.functional.html\n",
        "import matplotlib.pyplot as plt\n",
        "# Document: https://matplotlib.org/stable/api/_as_gen/matplotlib.pyplot.html\n",
        "%matplotlib inline"
      ]
    },
    {
      "cell_type": "code",
      "execution_count": null,
      "metadata": {
        "id": "8KTgTtHtGSKz"
      },
      "outputs": [],
      "source": [
        "# 이 부분은 절대 변경하지 마세요.\n",
        "\n",
        "RANDOM_SEED = 123\n",
        "DEVICE = torch.device('cuda:0' if torch.cuda.is_available() else 'cpu')"
      ]
    },
    {
      "cell_type": "markdown",
      "metadata": {
        "id": "3X1dEutCGSKz"
      },
      "source": [
        "## 1) Dataset 설명"
      ]
    },
    {
      "cell_type": "markdown",
      "metadata": {
        "id": "Rq3fUiX6GSKz"
      },
      "source": [
        "이 데이터셋은 기존의 MNIST와 비슷하게 10개의 클래스로 이루어진 데이터셋입니다. 또한 흑백의 28x28크기, 60k개의 학습용 이미지와 10k개의 테스트용 이미지로 구성 되어 있는것과 같이 MNIST와 대부분 비슷한 구조로 이뤄져 있습니다. \n",
        "\n",
        "아래는 데이터셋의 샘플 이미지 입니다.\n",
        "\n",
        "![](https://github.com/zalandoresearch/fashion-mnist/raw/master/doc/img/fashion-mnist-sprite.png)\n",
        "\n",
        "출처: https://github.com/zalandoresearch/fashion-mnist)\n",
        "\n"
      ]
    },
    {
      "cell_type": "markdown",
      "metadata": {
        "id": "mtxSfDt0GSK0"
      },
      "source": [
        "데이터셋의 10개의 클래스는 다음과 같습니다.\n",
        "\n",
        "\n",
        "| Label | Description |\n",
        "| --- | --- |\n",
        "| 0 | T-shirt/top |\n",
        "| 1 | Trouser |\n",
        "| 2 | Pullover |\n",
        "| 3 | Dress |\n",
        "| 4 | Coat |\n",
        "| 5 | Sandal |\n",
        "| 6 | Shirt |\n",
        "| 7 | Sneaker |\n",
        "| 8 | Bag |\n",
        "| 9 | Ankle boot |"
      ]
    },
    {
      "cell_type": "markdown",
      "metadata": {
        "id": "JjHMmJwuGSK0"
      },
      "source": [
        "## 2) Dataset Loader"
      ]
    },
    {
      "cell_type": "code",
      "execution_count": null,
      "metadata": {
        "id": "TGYbPnPwGSK0"
      },
      "outputs": [],
      "source": [
        "import torch\n",
        "from PIL import Image\n",
        "from torchvision.datasets import FashionMNIST\n",
        "from torchvision import transforms\n",
        "from torch.utils.data import DataLoader\n",
        "\n",
        "import os"
      ]
    },
    {
      "cell_type": "code",
      "execution_count": null,
      "metadata": {
        "id": "YzdUsqSCGSK1"
      },
      "outputs": [],
      "source": [
        "# Train 데이터 로딩시 이미지 데이터 전처리를 Transforms를 통해 할 수 있습니다.\n",
        "# ToTensor는 PIL 형태의 이미지나 ndarray 를 PyTorch 가 이해할 수 있는 tensor 자료형으로 바꾸어 주는 역할을 하며\n",
        "# Random Flip, Random Crop 등을 사용하여 Data augmentation을 수행하고 이를 통해 좋은 성능을 얻을 수 있습니다.\n",
        "# 하지만, 이번 실습에서는 사용하지 않습니다.\n",
        "# Document: https://pytorch.org/vision/stable/transforms.html\n",
        "custom_train_transform = transforms.Compose([  \n",
        "                                             transforms.ToTensor(),\n",
        "                                             transforms.Normalize(mean=(0.5,), std=(0.5,))\n",
        "])"
      ]
    },
    {
      "cell_type": "code",
      "execution_count": null,
      "metadata": {
        "id": "KCeKwvwtGSK1"
      },
      "outputs": [],
      "source": [
        "# Test 데이터 로딩시 데이터 Transform\n",
        "# Testset의 Trainsform은 Training set 과 다르게 랜덤하게 변경되면 안됩니다.\n",
        "# 이번 실습에서는 사용하지 않습니다.\n",
        "custom_test_transform = transforms.Compose([\n",
        "                                             transforms.ToTensor(),\n",
        "                                             transforms.Normalize(mean=(0.5,), std=(0.5,))\n",
        "])"
      ]
    },
    {
      "cell_type": "code",
      "execution_count": null,
      "metadata": {
        "id": "Fn5wGY8AGSK2"
      },
      "outputs": [],
      "source": [
        "############################################################\n",
        "# 변경 가능한 셀\n",
        "############################################################\n",
        "\n",
        "# BATCH_SIZE = 60000을 사용하면 Full-Batch 학습\n",
        "# BATCH_SIZE = 1을 사용하면 Online 학습\n",
        "# BATCH_SIZE = N (1 < N < 60000) 을 사용하면 Mini-batch 학습\n",
        "BATCH_SIZE = 256 "
      ]
    },
    {
      "cell_type": "code",
      "execution_count": null,
      "metadata": {
        "id": "Q6hfUWOxGSK2",
        "colab": {
          "base_uri": "https://localhost:8080/"
        },
        "outputId": "1b9566d9-4cf4-4ff6-a968-5bc7c5fabb7e"
      },
      "outputs": [
        {
          "output_type": "stream",
          "name": "stdout",
          "text": [
            "Downloading http://fashion-mnist.s3-website.eu-central-1.amazonaws.com/train-images-idx3-ubyte.gz\n",
            "Downloading http://fashion-mnist.s3-website.eu-central-1.amazonaws.com/train-images-idx3-ubyte.gz to ./FashionMNIST/raw/train-images-idx3-ubyte.gz\n"
          ]
        },
        {
          "output_type": "stream",
          "name": "stderr",
          "text": [
            "100%|██████████| 26421880/26421880 [00:03<00:00, 7090107.27it/s] \n"
          ]
        },
        {
          "output_type": "stream",
          "name": "stdout",
          "text": [
            "Extracting ./FashionMNIST/raw/train-images-idx3-ubyte.gz to ./FashionMNIST/raw\n",
            "\n",
            "Downloading http://fashion-mnist.s3-website.eu-central-1.amazonaws.com/train-labels-idx1-ubyte.gz\n",
            "Downloading http://fashion-mnist.s3-website.eu-central-1.amazonaws.com/train-labels-idx1-ubyte.gz to ./FashionMNIST/raw/train-labels-idx1-ubyte.gz\n"
          ]
        },
        {
          "output_type": "stream",
          "name": "stderr",
          "text": [
            "100%|██████████| 29515/29515 [00:00<00:00, 120284.50it/s]\n"
          ]
        },
        {
          "output_type": "stream",
          "name": "stdout",
          "text": [
            "Extracting ./FashionMNIST/raw/train-labels-idx1-ubyte.gz to ./FashionMNIST/raw\n",
            "\n",
            "Downloading http://fashion-mnist.s3-website.eu-central-1.amazonaws.com/t10k-images-idx3-ubyte.gz\n",
            "Downloading http://fashion-mnist.s3-website.eu-central-1.amazonaws.com/t10k-images-idx3-ubyte.gz to ./FashionMNIST/raw/t10k-images-idx3-ubyte.gz\n"
          ]
        },
        {
          "output_type": "stream",
          "name": "stderr",
          "text": [
            "100%|██████████| 4422102/4422102 [00:02<00:00, 2194328.70it/s]\n"
          ]
        },
        {
          "output_type": "stream",
          "name": "stdout",
          "text": [
            "Extracting ./FashionMNIST/raw/t10k-images-idx3-ubyte.gz to ./FashionMNIST/raw\n",
            "\n",
            "Downloading http://fashion-mnist.s3-website.eu-central-1.amazonaws.com/t10k-labels-idx1-ubyte.gz\n",
            "Downloading http://fashion-mnist.s3-website.eu-central-1.amazonaws.com/t10k-labels-idx1-ubyte.gz to ./FashionMNIST/raw/t10k-labels-idx1-ubyte.gz\n"
          ]
        },
        {
          "output_type": "stream",
          "name": "stderr",
          "text": [
            "100%|██████████| 5148/5148 [00:00<00:00, 16198257.31it/s]"
          ]
        },
        {
          "output_type": "stream",
          "name": "stdout",
          "text": [
            "Extracting ./FashionMNIST/raw/t10k-labels-idx1-ubyte.gz to ./FashionMNIST/raw\n",
            "\n"
          ]
        },
        {
          "output_type": "stream",
          "name": "stderr",
          "text": [
            "\n"
          ]
        }
      ],
      "source": [
        "train_dataset = FashionMNIST(\".\", train=True, download=True, transform=custom_train_transform)\n",
        "\n",
        "train_loader = DataLoader(dataset=train_dataset,\n",
        "                          batch_size=BATCH_SIZE,\n",
        "                          shuffle=True,\n",
        "                          drop_last=True,\n",
        "                          num_workers=2)\n",
        "\n",
        "\n",
        "test_dataset = FashionMNIST(\".\", train=False, download=True, transform=custom_test_transform)\n",
        "\n",
        "test_loader = DataLoader(dataset=test_dataset,\n",
        "                         batch_size=BATCH_SIZE,\n",
        "                         shuffle=False,\n",
        "                         num_workers=2)"
      ]
    },
    {
      "cell_type": "markdown",
      "metadata": {
        "id": "fDHzpzkPGSK2"
      },
      "source": [
        "아래 셀은 데이터셋이 잘 Load 되었는지 확인하는 테스트용 코드입니다.\n",
        "\n",
        "특히, Label data의 경우 One-hot vector encoding 되기 전의 형태의 class label 정보입니다."
      ]
    },
    {
      "cell_type": "code",
      "execution_count": null,
      "metadata": {
        "id": "c61l1zhsGSK2",
        "colab": {
          "base_uri": "https://localhost:8080/"
        },
        "outputId": "6aba6aa9-cbb5-4137-b1ef-a274e1da2321"
      },
      "outputs": [
        {
          "output_type": "stream",
          "name": "stdout",
          "text": [
            "Epoch: 1 | Batch index: 0 | Batch size: 64\n",
            "Image data shape: \t torch.Size([64, 1, 28, 28])\n",
            "Label data shape: \t torch.Size([64])\n",
            "tensor([8, 8, 1, 7, 2, 3, 1, 1, 2, 7, 4, 9, 0, 1, 7, 6, 9, 7, 1, 3, 9, 6, 5, 4,\n",
            "        0, 2, 9, 1, 9, 9, 5, 2, 9, 0, 0, 9, 2, 9, 9, 5, 7, 8, 4, 8, 6, 5, 0, 3,\n",
            "        0, 9, 5, 3, 6, 6, 8, 2, 4, 8, 9, 6, 3, 4, 7, 3])\n"
          ]
        }
      ],
      "source": [
        "num_epochs = 1\n",
        "for epoch in range(num_epochs):\n",
        "\n",
        "    for batch_idx, (x, y) in enumerate(train_loader):\n",
        "        \n",
        "        print('Epoch:', epoch+1, end='')\n",
        "        print(' | Batch index:', batch_idx, end='')\n",
        "        print(' | Batch size:', y.size()[0])\n",
        "        \n",
        "        x = x.to(DEVICE)\n",
        "        y = y.to(DEVICE)\n",
        "        print(f'Image data shape: \\t {x.shape}')\n",
        "        print(f'Label data shape: \\t {y.shape}')\n",
        "        print(y)\n",
        "        break"
      ]
    },
    {
      "cell_type": "markdown",
      "metadata": {
        "id": "0xdARvhyGSK3"
      },
      "source": [
        "## 3) Multilayer Perceptron Model\n",
        "\n",
        "아래 셀은 MLP모델을 정의하는 부분입니다. 이 과제에서 메인 부분입니다.<br>\n",
        "Hidden layer이 2개가 되도록 변경하세요. 필요에 따라 3개 이상으로 늘려도 됩니다."
      ]
    },
    {
      "cell_type": "code",
      "execution_count": null,
      "metadata": {
        "id": "UmAtVBVUGSK3",
        "colab": {
          "base_uri": "https://localhost:8080/"
        },
        "outputId": "909b2078-c90a-4d3f-e257-4bcdc0b32b25"
      },
      "outputs": [
        {
          "output_type": "execute_result",
          "data": {
            "text/plain": [
              "<torch._C.Generator at 0x7f72ec50e590>"
            ]
          },
          "metadata": {},
          "execution_count": 31
        }
      ],
      "source": [
        "############################################################\n",
        "# 변경 가능한 셀\n",
        "############################################################\n",
        "\n",
        "class MLP(torch.nn.Module):\n",
        "\n",
        "    def __init__(self, num_features, num_hidden_1, num_hidden_2, num_hidden_3, num_classes):\n",
        "        super(MLP, self).__init__()\n",
        "        \n",
        "        self.num_classes = num_classes # 10 \n",
        "        self.linear_1 = torch.nn.Linear(num_features, num_hidden_1)\n",
        "        self.linear_2 = torch.nn.Linear(num_hidden_1, num_hidden_2)\n",
        "        self.linear_3 = torch.nn.Linear(num_hidden_2, num_hidden_3)\n",
        "        self.linear_out = torch.nn.Linear(num_hidden_3, num_classes)\n",
        "        self.relu = torch.nn.ReLU()\n",
        "        \n",
        "        # Multi-class classification 문제를 풀기 위해 Softmax 함수를 사용합니다.\n",
        "        self.softmax = torch.nn.Softmax(dim=-1)\n",
        "        \n",
        "    def forward(self, x):\n",
        "        \n",
        "        ### activation 함수 변경 가능\n",
        "        ### 레이어간의 연결 추가, 변경\n",
        "        out = self.relu(self.linear_1(x))\n",
        "        out = self.relu(self.linear_2(out))\n",
        "        out = self.relu(self.linear_3(out))\n",
        "        out = torch.sigmoid(out)\n",
        "        \n",
        "        logits = self.linear_out(out)\n",
        "        \n",
        "        # Multi-class classification 문제를 풀기 위해 Softmax 함수를 사용합니다.\n",
        "        # 다만, 이후 사용할 F.cross_entropy() 함수 내부에 softmax가 이미 구현되어 있기 때문에\n",
        "        # Loss function 계산 시에는 self.softmax()를 통과하기 전의 logits 값을 이용하게 됩니다.\n",
        "        probas = self.softmax(logits)\n",
        "        return logits, probas\n",
        "\n",
        "# random seed는 무작위 가중치 초기화가 항상 같도록 해줍니다.\n",
        "# 초기화된 가중치에 따라 같은 네트워크도 서로 다른 성능을 낼 수 있어서 \n",
        "# 실제 사용시에는 좋은 성능을 얻기 위해 여러가지 무작위 가중치를 시도해 볼 수 있습니다.\n",
        "# 그러나 이 과제에서는 변경하지 않습니다.\n",
        "random.seed(RANDOM_SEED)\n",
        "torch.manual_seed(RANDOM_SEED)"
      ]
    },
    {
      "cell_type": "markdown",
      "metadata": {
        "id": "f1lyTMRxGSK3"
      },
      "source": [
        "## 4) Training"
      ]
    },
    {
      "cell_type": "markdown",
      "metadata": {
        "id": "4Nwr203nGSK4"
      },
      "source": [
        "**Cross entropy loss function 사용 시 주의점**\n",
        "\n",
        "- 모델의 출력인 logits, probas의 차원은 [BATCH_SIZE, num_classes] 형태지만, 정답 Label인 targets 변수의 차원은 [BATCH_SIZE] 입니다. (ex, [1, 3, 2, 4, 9, ..., 3])\n",
        "\n",
        "\n",
        "- 일반적으로 Cross Entropy Loss를 계산하기 위해서는 targets에 one-hot vector encoding을 수행해주어야 하지만, F.cross_entropy() 함수는 이를 내부적으로 수행해줍니다.\n",
        "\n",
        "\n",
        "- 또한, F.cross_entropy() 함수 내부적으로 softmax 함수를 이용하기 때문에, 모델의 출력 중 probas 값이 아닌 logits 값을 이용하여 Loss function을 계산합니다.\n",
        "\n",
        "\n",
        "- 구현 상세는 pytorch documents에서 확인할 수 있습니다. (https://pytorch.org/docs/stable/generated/torch.nn.functional.cross_entropy.html#torch.nn.functional.cross_entropy)"
      ]
    },
    {
      "cell_type": "code",
      "execution_count": null,
      "metadata": {
        "id": "4sUuDFE8GSK4",
        "colab": {
          "base_uri": "https://localhost:8080/"
        },
        "outputId": "029ab9b2-390c-4aa1-91e7-da87ac1e6041"
      },
      "outputs": [
        {
          "output_type": "stream",
          "name": "stdout",
          "text": [
            "Epoch: 001/010 | Batch 000/937 | Cost: 2.3300\n",
            "Epoch: 001/010 | Batch 040/937 | Cost: 2.3176\n",
            "Epoch: 001/010 | Batch 080/937 | Cost: 2.2366\n",
            "Epoch: 001/010 | Batch 120/937 | Cost: 1.9284\n",
            "Epoch: 001/010 | Batch 160/937 | Cost: 2.2479\n",
            "Epoch: 001/010 | Batch 200/937 | Cost: 1.2501\n",
            "Epoch: 001/010 | Batch 240/937 | Cost: 1.1675\n",
            "Epoch: 001/010 | Batch 280/937 | Cost: 1.0380\n",
            "Epoch: 001/010 | Batch 320/937 | Cost: 1.1296\n",
            "Epoch: 001/010 | Batch 360/937 | Cost: 0.8561\n",
            "Epoch: 001/010 | Batch 400/937 | Cost: 0.6038\n",
            "Epoch: 001/010 | Batch 440/937 | Cost: 0.7373\n",
            "Epoch: 001/010 | Batch 480/937 | Cost: 0.8641\n",
            "Epoch: 001/010 | Batch 520/937 | Cost: 1.1432\n",
            "Epoch: 001/010 | Batch 560/937 | Cost: 0.4030\n",
            "Epoch: 001/010 | Batch 600/937 | Cost: 0.6195\n",
            "Epoch: 001/010 | Batch 640/937 | Cost: 0.6127\n",
            "Epoch: 001/010 | Batch 680/937 | Cost: 0.5672\n",
            "Epoch: 001/010 | Batch 720/937 | Cost: 0.6139\n",
            "Epoch: 001/010 | Batch 760/937 | Cost: 0.4988\n",
            "Epoch: 001/010 | Batch 800/937 | Cost: 1.0652\n",
            "Epoch: 001/010 | Batch 840/937 | Cost: 0.5992\n",
            "Epoch: 001/010 | Batch 880/937 | Cost: 0.4653\n",
            "Epoch: 001/010 | Batch 920/937 | Cost: 0.5325\n",
            "Epoch: 001/010 Train Acc.: 76.98% | Test Acc.: 76.34%\n",
            "Time elapsed: 0.79 min\n",
            "Epoch: 002/010 | Batch 000/937 | Cost: 0.7087\n",
            "Epoch: 002/010 | Batch 040/937 | Cost: 0.6587\n",
            "Epoch: 002/010 | Batch 080/937 | Cost: 0.6486\n",
            "Epoch: 002/010 | Batch 120/937 | Cost: 0.5774\n",
            "Epoch: 002/010 | Batch 160/937 | Cost: 0.5021\n",
            "Epoch: 002/010 | Batch 200/937 | Cost: 0.5888\n",
            "Epoch: 002/010 | Batch 240/937 | Cost: 0.6022\n",
            "Epoch: 002/010 | Batch 280/937 | Cost: 0.4931\n",
            "Epoch: 002/010 | Batch 320/937 | Cost: 0.3666\n",
            "Epoch: 002/010 | Batch 360/937 | Cost: 0.5426\n",
            "Epoch: 002/010 | Batch 400/937 | Cost: 0.6478\n",
            "Epoch: 002/010 | Batch 440/937 | Cost: 1.1485\n",
            "Epoch: 002/010 | Batch 480/937 | Cost: 0.5472\n",
            "Epoch: 002/010 | Batch 520/937 | Cost: 0.4692\n",
            "Epoch: 002/010 | Batch 560/937 | Cost: 0.5786\n",
            "Epoch: 002/010 | Batch 600/937 | Cost: 0.4912\n",
            "Epoch: 002/010 | Batch 640/937 | Cost: 0.4018\n",
            "Epoch: 002/010 | Batch 680/937 | Cost: 0.4511\n",
            "Epoch: 002/010 | Batch 720/937 | Cost: 0.5805\n",
            "Epoch: 002/010 | Batch 760/937 | Cost: 0.3525\n",
            "Epoch: 002/010 | Batch 800/937 | Cost: 0.3647\n",
            "Epoch: 002/010 | Batch 840/937 | Cost: 0.4184\n",
            "Epoch: 002/010 | Batch 880/937 | Cost: 0.2906\n",
            "Epoch: 002/010 | Batch 920/937 | Cost: 0.4825\n",
            "Epoch: 002/010 Train Acc.: 83.81% | Test Acc.: 82.14%\n",
            "Time elapsed: 1.62 min\n",
            "Epoch: 003/010 | Batch 000/937 | Cost: 0.6381\n",
            "Epoch: 003/010 | Batch 040/937 | Cost: 0.4425\n",
            "Epoch: 003/010 | Batch 080/937 | Cost: 0.3183\n",
            "Epoch: 003/010 | Batch 120/937 | Cost: 0.3307\n",
            "Epoch: 003/010 | Batch 160/937 | Cost: 0.3087\n",
            "Epoch: 003/010 | Batch 200/937 | Cost: 0.3682\n",
            "Epoch: 003/010 | Batch 240/937 | Cost: 0.3157\n",
            "Epoch: 003/010 | Batch 280/937 | Cost: 0.4510\n",
            "Epoch: 003/010 | Batch 320/937 | Cost: 0.7834\n",
            "Epoch: 003/010 | Batch 360/937 | Cost: 0.2206\n",
            "Epoch: 003/010 | Batch 400/937 | Cost: 0.6672\n",
            "Epoch: 003/010 | Batch 440/937 | Cost: 0.3661\n",
            "Epoch: 003/010 | Batch 480/937 | Cost: 0.3037\n",
            "Epoch: 003/010 | Batch 520/937 | Cost: 0.4783\n",
            "Epoch: 003/010 | Batch 560/937 | Cost: 0.3979\n",
            "Epoch: 003/010 | Batch 600/937 | Cost: 0.3902\n",
            "Epoch: 003/010 | Batch 640/937 | Cost: 0.5184\n",
            "Epoch: 003/010 | Batch 680/937 | Cost: 0.3042\n",
            "Epoch: 003/010 | Batch 720/937 | Cost: 0.4387\n",
            "Epoch: 003/010 | Batch 760/937 | Cost: 0.4640\n",
            "Epoch: 003/010 | Batch 800/937 | Cost: 0.6346\n",
            "Epoch: 003/010 | Batch 840/937 | Cost: 0.4522\n",
            "Epoch: 003/010 | Batch 880/937 | Cost: 0.2894\n",
            "Epoch: 003/010 | Batch 920/937 | Cost: 0.2330\n",
            "Epoch: 003/010 Train Acc.: 86.27% | Test Acc.: 84.28%\n",
            "Time elapsed: 2.44 min\n",
            "Epoch: 004/010 | Batch 000/937 | Cost: 0.3123\n",
            "Epoch: 004/010 | Batch 040/937 | Cost: 0.7319\n",
            "Epoch: 004/010 | Batch 080/937 | Cost: 0.4385\n",
            "Epoch: 004/010 | Batch 120/937 | Cost: 0.3042\n",
            "Epoch: 004/010 | Batch 160/937 | Cost: 0.4822\n",
            "Epoch: 004/010 | Batch 200/937 | Cost: 0.5181\n",
            "Epoch: 004/010 | Batch 240/937 | Cost: 0.3484\n",
            "Epoch: 004/010 | Batch 280/937 | Cost: 0.5536\n",
            "Epoch: 004/010 | Batch 320/937 | Cost: 0.3900\n",
            "Epoch: 004/010 | Batch 360/937 | Cost: 0.3850\n",
            "Epoch: 004/010 | Batch 400/937 | Cost: 0.3388\n",
            "Epoch: 004/010 | Batch 440/937 | Cost: 0.6803\n",
            "Epoch: 004/010 | Batch 480/937 | Cost: 0.3889\n",
            "Epoch: 004/010 | Batch 520/937 | Cost: 0.3997\n",
            "Epoch: 004/010 | Batch 560/937 | Cost: 0.4410\n",
            "Epoch: 004/010 | Batch 600/937 | Cost: 0.5414\n",
            "Epoch: 004/010 | Batch 640/937 | Cost: 0.3535\n",
            "Epoch: 004/010 | Batch 680/937 | Cost: 0.4812\n",
            "Epoch: 004/010 | Batch 720/937 | Cost: 0.3556\n",
            "Epoch: 004/010 | Batch 760/937 | Cost: 0.2380\n",
            "Epoch: 004/010 | Batch 800/937 | Cost: 0.3432\n",
            "Epoch: 004/010 | Batch 840/937 | Cost: 0.3086\n",
            "Epoch: 004/010 | Batch 880/937 | Cost: 0.1960\n",
            "Epoch: 004/010 | Batch 920/937 | Cost: 0.3290\n",
            "Epoch: 004/010 Train Acc.: 87.00% | Test Acc.: 84.85%\n",
            "Time elapsed: 3.24 min\n",
            "Epoch: 005/010 | Batch 000/937 | Cost: 0.2491\n",
            "Epoch: 005/010 | Batch 040/937 | Cost: 0.3789\n",
            "Epoch: 005/010 | Batch 080/937 | Cost: 0.3110\n",
            "Epoch: 005/010 | Batch 120/937 | Cost: 0.3531\n",
            "Epoch: 005/010 | Batch 160/937 | Cost: 0.3389\n",
            "Epoch: 005/010 | Batch 200/937 | Cost: 0.2716\n",
            "Epoch: 005/010 | Batch 240/937 | Cost: 0.2914\n",
            "Epoch: 005/010 | Batch 280/937 | Cost: 0.5474\n",
            "Epoch: 005/010 | Batch 320/937 | Cost: 0.3003\n",
            "Epoch: 005/010 | Batch 360/937 | Cost: 0.3281\n",
            "Epoch: 005/010 | Batch 400/937 | Cost: 0.1662\n",
            "Epoch: 005/010 | Batch 440/937 | Cost: 0.4328\n",
            "Epoch: 005/010 | Batch 480/937 | Cost: 0.3069\n",
            "Epoch: 005/010 | Batch 520/937 | Cost: 0.3637\n",
            "Epoch: 005/010 | Batch 560/937 | Cost: 0.4687\n",
            "Epoch: 005/010 | Batch 600/937 | Cost: 0.2035\n",
            "Epoch: 005/010 | Batch 640/937 | Cost: 0.4608\n",
            "Epoch: 005/010 | Batch 680/937 | Cost: 0.3172\n",
            "Epoch: 005/010 | Batch 720/937 | Cost: 0.3806\n",
            "Epoch: 005/010 | Batch 760/937 | Cost: 0.3900\n",
            "Epoch: 005/010 | Batch 800/937 | Cost: 0.5321\n",
            "Epoch: 005/010 | Batch 840/937 | Cost: 0.2906\n",
            "Epoch: 005/010 | Batch 880/937 | Cost: 0.2547\n",
            "Epoch: 005/010 | Batch 920/937 | Cost: 0.1958\n",
            "Epoch: 005/010 Train Acc.: 86.79% | Test Acc.: 84.44%\n",
            "Time elapsed: 4.05 min\n",
            "Epoch: 006/010 | Batch 000/937 | Cost: 0.4629\n",
            "Epoch: 006/010 | Batch 040/937 | Cost: 0.5816\n",
            "Epoch: 006/010 | Batch 080/937 | Cost: 0.2984\n",
            "Epoch: 006/010 | Batch 120/937 | Cost: 0.3067\n",
            "Epoch: 006/010 | Batch 160/937 | Cost: 0.3214\n",
            "Epoch: 006/010 | Batch 200/937 | Cost: 0.3368\n",
            "Epoch: 006/010 | Batch 240/937 | Cost: 0.4614\n",
            "Epoch: 006/010 | Batch 280/937 | Cost: 0.3688\n",
            "Epoch: 006/010 | Batch 320/937 | Cost: 0.2879\n",
            "Epoch: 006/010 | Batch 360/937 | Cost: 0.3335\n",
            "Epoch: 006/010 | Batch 400/937 | Cost: 0.3260\n",
            "Epoch: 006/010 | Batch 440/937 | Cost: 0.3642\n",
            "Epoch: 006/010 | Batch 480/937 | Cost: 0.3952\n",
            "Epoch: 006/010 | Batch 520/937 | Cost: 0.2690\n",
            "Epoch: 006/010 | Batch 560/937 | Cost: 0.3149\n",
            "Epoch: 006/010 | Batch 600/937 | Cost: 0.4524\n",
            "Epoch: 006/010 | Batch 640/937 | Cost: 0.3111\n",
            "Epoch: 006/010 | Batch 680/937 | Cost: 0.2777\n",
            "Epoch: 006/010 | Batch 720/937 | Cost: 0.6200\n",
            "Epoch: 006/010 | Batch 760/937 | Cost: 0.4266\n",
            "Epoch: 006/010 | Batch 800/937 | Cost: 0.3137\n",
            "Epoch: 006/010 | Batch 840/937 | Cost: 0.4347\n",
            "Epoch: 006/010 | Batch 880/937 | Cost: 0.3171\n",
            "Epoch: 006/010 | Batch 920/937 | Cost: 0.1882\n",
            "Epoch: 006/010 Train Acc.: 89.46% | Test Acc.: 87.22%\n",
            "Time elapsed: 4.87 min\n",
            "Epoch: 007/010 | Batch 000/937 | Cost: 0.1366\n",
            "Epoch: 007/010 | Batch 040/937 | Cost: 0.1955\n",
            "Epoch: 007/010 | Batch 080/937 | Cost: 0.2850\n",
            "Epoch: 007/010 | Batch 120/937 | Cost: 0.3458\n",
            "Epoch: 007/010 | Batch 160/937 | Cost: 0.3371\n",
            "Epoch: 007/010 | Batch 200/937 | Cost: 0.2608\n",
            "Epoch: 007/010 | Batch 240/937 | Cost: 0.2510\n",
            "Epoch: 007/010 | Batch 280/937 | Cost: 0.2651\n",
            "Epoch: 007/010 | Batch 320/937 | Cost: 0.4687\n",
            "Epoch: 007/010 | Batch 360/937 | Cost: 0.2061\n",
            "Epoch: 007/010 | Batch 400/937 | Cost: 0.3145\n",
            "Epoch: 007/010 | Batch 440/937 | Cost: 0.3041\n",
            "Epoch: 007/010 | Batch 480/937 | Cost: 0.3130\n",
            "Epoch: 007/010 | Batch 520/937 | Cost: 0.2315\n",
            "Epoch: 007/010 | Batch 560/937 | Cost: 0.3036\n",
            "Epoch: 007/010 | Batch 600/937 | Cost: 0.7393\n",
            "Epoch: 007/010 | Batch 640/937 | Cost: 0.2205\n",
            "Epoch: 007/010 | Batch 680/937 | Cost: 0.3619\n",
            "Epoch: 007/010 | Batch 720/937 | Cost: 0.4091\n",
            "Epoch: 007/010 | Batch 760/937 | Cost: 0.3249\n",
            "Epoch: 007/010 | Batch 800/937 | Cost: 0.2574\n",
            "Epoch: 007/010 | Batch 840/937 | Cost: 0.2510\n",
            "Epoch: 007/010 | Batch 880/937 | Cost: 0.4216\n",
            "Epoch: 007/010 | Batch 920/937 | Cost: 0.3468\n",
            "Epoch: 007/010 Train Acc.: 90.15% | Test Acc.: 87.38%\n",
            "Time elapsed: 5.66 min\n",
            "Epoch: 008/010 | Batch 000/937 | Cost: 0.4246\n",
            "Epoch: 008/010 | Batch 040/937 | Cost: 0.4034\n",
            "Epoch: 008/010 | Batch 080/937 | Cost: 0.3371\n",
            "Epoch: 008/010 | Batch 120/937 | Cost: 0.4564\n",
            "Epoch: 008/010 | Batch 160/937 | Cost: 0.4277\n",
            "Epoch: 008/010 | Batch 200/937 | Cost: 0.3311\n",
            "Epoch: 008/010 | Batch 240/937 | Cost: 0.2581\n",
            "Epoch: 008/010 | Batch 280/937 | Cost: 0.3343\n",
            "Epoch: 008/010 | Batch 320/937 | Cost: 0.2755\n",
            "Epoch: 008/010 | Batch 360/937 | Cost: 0.2428\n",
            "Epoch: 008/010 | Batch 400/937 | Cost: 0.2220\n",
            "Epoch: 008/010 | Batch 440/937 | Cost: 0.3430\n",
            "Epoch: 008/010 | Batch 480/937 | Cost: 0.4216\n",
            "Epoch: 008/010 | Batch 520/937 | Cost: 0.2629\n",
            "Epoch: 008/010 | Batch 560/937 | Cost: 0.4358\n",
            "Epoch: 008/010 | Batch 600/937 | Cost: 0.0981\n",
            "Epoch: 008/010 | Batch 640/937 | Cost: 0.2571\n",
            "Epoch: 008/010 | Batch 680/937 | Cost: 0.3232\n",
            "Epoch: 008/010 | Batch 720/937 | Cost: 0.3222\n",
            "Epoch: 008/010 | Batch 760/937 | Cost: 0.4514\n",
            "Epoch: 008/010 | Batch 800/937 | Cost: 0.3910\n",
            "Epoch: 008/010 | Batch 840/937 | Cost: 0.1802\n",
            "Epoch: 008/010 | Batch 880/937 | Cost: 0.1806\n",
            "Epoch: 008/010 | Batch 920/937 | Cost: 0.3333\n",
            "Epoch: 008/010 Train Acc.: 88.88% | Test Acc.: 86.32%\n",
            "Time elapsed: 6.47 min\n",
            "Epoch: 009/010 | Batch 000/937 | Cost: 0.3084\n",
            "Epoch: 009/010 | Batch 040/937 | Cost: 0.6284\n",
            "Epoch: 009/010 | Batch 080/937 | Cost: 0.3364\n",
            "Epoch: 009/010 | Batch 120/937 | Cost: 0.3768\n",
            "Epoch: 009/010 | Batch 160/937 | Cost: 0.2228\n",
            "Epoch: 009/010 | Batch 200/937 | Cost: 0.5749\n",
            "Epoch: 009/010 | Batch 240/937 | Cost: 0.2611\n",
            "Epoch: 009/010 | Batch 280/937 | Cost: 0.1983\n",
            "Epoch: 009/010 | Batch 320/937 | Cost: 0.2140\n",
            "Epoch: 009/010 | Batch 360/937 | Cost: 0.2544\n",
            "Epoch: 009/010 | Batch 400/937 | Cost: 0.4033\n",
            "Epoch: 009/010 | Batch 440/937 | Cost: 0.2208\n",
            "Epoch: 009/010 | Batch 480/937 | Cost: 0.2416\n",
            "Epoch: 009/010 | Batch 520/937 | Cost: 0.3887\n",
            "Epoch: 009/010 | Batch 560/937 | Cost: 0.2747\n",
            "Epoch: 009/010 | Batch 600/937 | Cost: 0.2587\n",
            "Epoch: 009/010 | Batch 640/937 | Cost: 0.3480\n",
            "Epoch: 009/010 | Batch 680/937 | Cost: 0.1716\n",
            "Epoch: 009/010 | Batch 720/937 | Cost: 0.1861\n",
            "Epoch: 009/010 | Batch 760/937 | Cost: 0.1243\n",
            "Epoch: 009/010 | Batch 800/937 | Cost: 0.1515\n",
            "Epoch: 009/010 | Batch 840/937 | Cost: 0.1997\n",
            "Epoch: 009/010 | Batch 880/937 | Cost: 0.2393\n",
            "Epoch: 009/010 | Batch 920/937 | Cost: 0.5621\n",
            "Epoch: 009/010 Train Acc.: 90.53% | Test Acc.: 87.49%\n",
            "Time elapsed: 7.30 min\n",
            "Epoch: 010/010 | Batch 000/937 | Cost: 0.2966\n",
            "Epoch: 010/010 | Batch 040/937 | Cost: 0.4732\n",
            "Epoch: 010/010 | Batch 080/937 | Cost: 0.1996\n",
            "Epoch: 010/010 | Batch 120/937 | Cost: 0.2831\n",
            "Epoch: 010/010 | Batch 160/937 | Cost: 0.2161\n",
            "Epoch: 010/010 | Batch 200/937 | Cost: 0.2779\n",
            "Epoch: 010/010 | Batch 240/937 | Cost: 0.3279\n",
            "Epoch: 010/010 | Batch 280/937 | Cost: 0.2621\n",
            "Epoch: 010/010 | Batch 320/937 | Cost: 0.4574\n",
            "Epoch: 010/010 | Batch 360/937 | Cost: 0.3299\n",
            "Epoch: 010/010 | Batch 400/937 | Cost: 0.1898\n",
            "Epoch: 010/010 | Batch 440/937 | Cost: 0.4763\n",
            "Epoch: 010/010 | Batch 480/937 | Cost: 0.4088\n",
            "Epoch: 010/010 | Batch 520/937 | Cost: 0.2473\n",
            "Epoch: 010/010 | Batch 560/937 | Cost: 0.1050\n",
            "Epoch: 010/010 | Batch 600/937 | Cost: 0.2195\n",
            "Epoch: 010/010 | Batch 640/937 | Cost: 0.3432\n",
            "Epoch: 010/010 | Batch 680/937 | Cost: 0.1257\n",
            "Epoch: 010/010 | Batch 720/937 | Cost: 0.2840\n",
            "Epoch: 010/010 | Batch 760/937 | Cost: 0.4008\n",
            "Epoch: 010/010 | Batch 800/937 | Cost: 0.2525\n",
            "Epoch: 010/010 | Batch 840/937 | Cost: 0.1046\n",
            "Epoch: 010/010 | Batch 880/937 | Cost: 0.2964\n",
            "Epoch: 010/010 | Batch 920/937 | Cost: 0.2640\n",
            "Epoch: 010/010 Train Acc.: 91.61% | Test Acc.: 88.64%\n",
            "Time elapsed: 8.09 min\n",
            "Total Training Time: 8.09 min\n"
          ]
        }
      ],
      "source": [
        "############################################################\n",
        "# 변경 가능한 셀\n",
        "############################################################\n",
        "\n",
        "### num_hidden_1, num_hidden_2 변경 가능, \n",
        "### 레이어를 더 추가하고 싶다면 이부분을 알맞게 수정하세요.\n",
        "model = MLP(num_features=28*28,\n",
        "            num_hidden_1=700,\n",
        "            num_hidden_2=500,\n",
        "            num_hidden_3=300,\n",
        "            num_classes=10)\n",
        "\n",
        "model = model.to(DEVICE)\n",
        "\n",
        "\n",
        "### Optimizer는 가중치를 업데이트하는 방법을 바꾸어 더 빠르게 좋은 성능을 낼 수 있도록합니다.\n",
        "### 이 과제에서는 optimizer를 변경하지 않습니다. \n",
        "### 그러나 Learning Rate(lr)는 변경이 가능합니다.\n",
        "optimizer = torch.optim.SGD(model.parameters(), lr=0.2)\n",
        "\n",
        "NUM_EPOCHS = 10 # 변경 가능\n",
        "############################################################\n",
        "\n",
        "### 아래는 변경 불가능\n",
        "def compute_accuracy_and_loss(model, data_loader, device):\n",
        "    correct_pred, num_examples = 0, 0\n",
        "    cross_entropy = 0.\n",
        "    for i, (features, targets) in enumerate(data_loader):\n",
        "            \n",
        "        features = features.view(-1, 28*28).to(device)\n",
        "        targets = targets.to(device)\n",
        "\n",
        "        logits, probas = model(features)\n",
        "        \n",
        "        # Loss 계산 시에는 logits 이용\n",
        "        cross_entropy += F.cross_entropy(logits, targets).item()\n",
        "        \n",
        "        # 추론 시에는 probas 이용\n",
        "        _, predicted_labels = torch.max(probas, 1)\n",
        "        num_examples += targets.size(0)\n",
        "        correct_pred += (predicted_labels == targets).sum()\n",
        "    return correct_pred.cpu().float()/num_examples * 100, cross_entropy/num_examples\n",
        "    \n",
        "\n",
        "start_time = time.time()\n",
        "train_acc_lst, test_acc_lst = [], []\n",
        "train_loss_lst, test_loss_lst = [], []\n",
        "\n",
        "for epoch in range(NUM_EPOCHS):\n",
        "    \n",
        "    model.train()\n",
        "    \n",
        "    for batch_idx, (features, targets) in enumerate(train_loader):\n",
        "    \n",
        "        ### PREPARE MINIBATCH\n",
        "        features = features.view(-1, 28*28).to(DEVICE)\n",
        "        targets = targets.to(DEVICE)\n",
        "            \n",
        "        ### FORWARD AND BACK PROP\n",
        "        logits, probas = model(features)\n",
        "        cost = F.cross_entropy(logits, targets)\n",
        "        optimizer.zero_grad()\n",
        "        \n",
        "        cost.backward()\n",
        "        \n",
        "        ### UPDATE MODEL PARAMETERS\n",
        "        optimizer.step()\n",
        "        \n",
        "        ### LOGGING\n",
        "        if not batch_idx % 40:\n",
        "            print (f'Epoch: {epoch+1:03d}/{NUM_EPOCHS:03d} | '\n",
        "                   f'Batch {batch_idx:03d}/{len(train_loader):03d} |' \n",
        "                   f' Cost: {cost:.4f}')\n",
        "\n",
        "    # no need to build the computation graph for backprop when computing accuracy\n",
        "    model.eval()\n",
        "    with torch.set_grad_enabled(False):\n",
        "        train_acc, train_loss = compute_accuracy_and_loss(model, train_loader, device=DEVICE)\n",
        "        test_acc, test_loss = compute_accuracy_and_loss(model, test_loader, device=DEVICE)\n",
        "        train_acc_lst.append(train_acc)\n",
        "        test_acc_lst.append(test_acc)\n",
        "        train_loss_lst.append(train_loss)\n",
        "        test_loss_lst.append(test_loss)\n",
        "        print(f'Epoch: {epoch+1:03d}/{NUM_EPOCHS:03d} Train Acc.: {train_acc:.2f}%'\n",
        "              f' | Test Acc.: {test_acc:.2f}%')\n",
        "        \n",
        "    elapsed = (time.time() - start_time)/60\n",
        "    print(f'Time elapsed: {elapsed:.2f} min')\n",
        "  \n",
        "elapsed = (time.time() - start_time)/60\n",
        "print(f'Total Training Time: {elapsed:.2f} min')"
      ]
    },
    {
      "cell_type": "markdown",
      "metadata": {
        "id": "eDXAg7tPGSK5"
      },
      "source": [
        "## 5) Evaluation\n",
        "\n",
        "테스트 데이터와 학습 데이터의 Loss변화를 확인합니다."
      ]
    },
    {
      "cell_type": "code",
      "execution_count": null,
      "metadata": {
        "id": "tUcWm90AGSK5",
        "colab": {
          "base_uri": "https://localhost:8080/",
          "height": 449
        },
        "outputId": "edb93564-179e-4e04-e7e4-295463e0e70d"
      },
      "outputs": [
        {
          "output_type": "display_data",
          "data": {
            "text/plain": [
              "<Figure size 640x480 with 1 Axes>"
            ],
            "image/png": "[encoded data removed]"
          },
          "metadata": {}
        }
      ],
      "source": [
        "plt.plot(range(1, NUM_EPOCHS+1), train_loss_lst, label='Training loss')\n",
        "plt.plot(range(1, NUM_EPOCHS+1), test_loss_lst, label='Test loss')\n",
        "plt.legend(loc='upper right')\n",
        "plt.ylabel('Cross entropy')\n",
        "plt.xlabel('Epoch')\n",
        "plt.show()"
      ]
    },
    {
      "cell_type": "code",
      "execution_count": null,
      "metadata": {
        "id": "RceodzQEGSK5",
        "colab": {
          "base_uri": "https://localhost:8080/",
          "height": 449
        },
        "outputId": "6e52323b-1e6a-414e-cc30-56b589b1c1ec"
      },
      "outputs": [
        {
          "output_type": "display_data",
          "data": {
            "text/plain": [
              "<Figure size 640x480 with 1 Axes>"
            ],
            "image/png": "[encoded data removed]"
          },
          "metadata": {}
        }
      ],
      "source": [
        "plt.plot(range(1, NUM_EPOCHS+1), train_acc_lst, label='Training accuracy')\n",
        "plt.plot(range(1, NUM_EPOCHS+1), test_acc_lst, label='Test accuracy')\n",
        "plt.legend(loc='upper left')\n",
        "plt.ylabel('Cross entropy')\n",
        "plt.xlabel('Epoch')\n",
        "plt.show()"
      ]
    },
    {
      "cell_type": "code",
      "execution_count": null,
      "metadata": {
        "id": "HSw7xZYFGSK5",
        "colab": {
          "base_uri": "https://localhost:8080/"
        },
        "outputId": "47688899-c5fc-4fba-c083-c63bdb35c804"
      },
      "outputs": [
        {
          "output_type": "stream",
          "name": "stdout",
          "text": [
            "Test accuracy: 88.64%\n"
          ]
        }
      ],
      "source": [
        "model.eval()\n",
        "with torch.set_grad_enabled(False): # save memory during inference\n",
        "    test_acc, test_loss = compute_accuracy_and_loss(model, test_loader, DEVICE)\n",
        "    print(f'Test accuracy: {test_acc:.2f}%')"
      ]
    },
    {
      "cell_type": "markdown",
      "metadata": {
        "id": "wEyQ63cAGSK5"
      },
      "source": [
        "## 6) Discussion"
      ]
    },
    {
      "cell_type": "markdown",
      "metadata": {
        "id": "UX543cnXGSK6"
      },
      "source": [
        "**1) 학습, 테스트 정확도는 얼마인가요? (위 숫자를 복사하세요.)**"
      ]
    },
    {
      "cell_type": "markdown",
      "metadata": {
        "id": "hYsvaeo7GSK6"
      },
      "source": [
        "- Training:  91.61%\n",
        "- Test 88.64%"
      ]
    },
    {
      "cell_type": "markdown",
      "metadata": {
        "id": "2fU-Ew-RGSK6"
      },
      "source": [
        "**2) overfitting을 경험했나요? 만약 그랬다면 왜 그랬을지 적어보고, overfitting을 방지하기위한 간단한 방법은 무엇일까요?**"
      ]
    },
    {
      "cell_type": "markdown",
      "metadata": {
        "id": "HFAJIf8GGSK6"
      },
      "source": [
        "[제안하는 방법 적기]  \n",
        "Overfitting은 모델의 용량이 너무 크기 때문에 발생한다. 훈련 집합의 데이터들에 대해서는 거의 완벽하게 근사화할 수 있는데 이 때문에 잡음까지 수용하게 된다. 이로 인해 훈련 집합에 대해서는 높은 성능, 테스트 집합에는 낮은 성능을 보여 낮은 일반화 능력을 가진다. 이런 경우 가중치의 절댓값이 매우 크게 나오는 것을 확인할 수 있는데, 이에 대한 해결책으로는 검증 집합을 이용하는 방법이 있다. 훈련 집합과 테스트 집합과는 다른 별도의 검증 집합을 준비하여 훈련 집합으로 먼저 학습시킨 뒤, 검증 집합에 대해 최고의 성능을 보인 모델을 최종적으로 선택하는 방법이다. 또한, 용량이 충분히 큰 모델을 이용하더라도 가중치의 크기에 제한을 걸어주는 Weight Penalty와 같은 규제 기법을 사용하는 것도 하나의 방법이 될 수 있다. 훈련 집합의 크기가 너무 작을 때도 Overfitting이 발생할 수 있다. 모델의 용량이 크다고 해도 이를 뒷받침할 수 있을 정도로 충분한 훈련 집합이 있다면 성공적인 학습을 할 수 있다. 하지만 대부분의 상황에서 데이터 부족을 경험할 텐데 데이터 증대를 통해서 이를 방지할 수 있다. 기존의 데이터들을 학습에 알맞게 가공해서 데이터의 수를 늘리는 방법이다."
      ]
    },
    {
      "cell_type": "markdown",
      "metadata": {
        "id": "MHVrDEFzGSK6"
      },
      "source": [
        "예를 들면, \n",
        "\n",
        "- batch size를 256으로 변경\n",
        "- 두개의 hidden layers의 activation을 relu로 변경\n",
        "- learning rate를 0.2로 변경"
      ]
    },
    {
      "cell_type": "markdown",
      "metadata": {
        "id": "CZXJEtj5GSK7"
      },
      "source": [
        "**3) 만약 hidden layer 수가 늘어나면(3개 이상) 얻을 수 있는 장/단점은 무엇일까요?**"
      ]
    },
    {
      "cell_type": "markdown",
      "metadata": {
        "id": "uK-jflX1GSK7"
      },
      "source": [
        "[답변작성]  \n",
        "Hidden Layer 수를 늘리는 것은 모델의 복잡도를 높이는 것이다. 장점으로는 먼저 더 복잡한 모델을 만들어 더 복잡한 함수를 학습할 수 있어 모델의 성능이 더욱 향상될 수 있다. 또 모델이 입력 데이터에서 더 많은 특징을 추출할 수 있어 일반화 능력이 향상된다. 하지만 단점으로는 모델의 복잡도가 높아지기 때문에 학습 시간이 더 오래 걸릴 수 있고 모델이 과적합될 가능성이 높아진다. 따라서 적절한 규제 기법을 통해서 이를 방지해야 한다."
      ]
    },
    {
      "cell_type": "markdown",
      "metadata": {
        "id": "ENhDOj7RGSK7"
      },
      "source": [
        "**4) 구현하면서 수정한 부분에 대해 작성하여 수정한 이유 및 성능향상이 생긴 이유에 대해 답해보세요.**"
      ]
    },
    {
      "cell_type": "markdown",
      "metadata": {
        "id": "1tMpbEEWGSK7"
      },
      "source": [
        "[답변작성]  \n",
        "먼저 Batch Size를 256으로 변경했다. 더 큰 Batch Size는 그만큼 더 많은 데이터를 기반으로 Gradient Descent를 수행하므로, 훈련 과정에서 더 안정적인 모델 파라미터를 학습할 수 있다. 또한, 더 큰 Batch Size는 일반적으로 더 작은 Batch Size보다 더 정확한 Gradient를 계산할 수 있다. 다음으로는 Hidden Layer를 3개로 변경했다. Hidden Layer가 많아지게 되면 모델이 더 많은 특징을 추출할 수 있어 일반화 능력이 향상된다. 그리고 모든 Hidden Layer의 Activation을 ReLU로 변경했다. Sigmoid는 입력값이 크거나 작을 때 Gradient가 거의 0에 수렴하는 Gradient Vanishing 문제가 있다. 하지만 ReLU는 입력값이 양수일 경우 Gradient가 항상 1이기 때문에 이를 방지할 수 있다. 마지막으로 Learning Rate를 0.2로 변경했다. Learning Rate가 너무 크면 가중치가 오히려 발산할 수 있다. 그래서 Learning Rate를 조정하여 이 문제를 해결했다."
      ]
    }
  ],
  "metadata": {
    "kernelspec": {
      "display_name": "Python 3 (ipykernel)",
      "language": "python",
      "name": "python3"
    },
    "language_info": {
      "codemirror_mode": {
        "name": "ipython",
        "version": 3
      },
      "file_extension": ".py",
      "mimetype": "text/x-python",
      "name": "python",
      "nbconvert_exporter": "python",
      "pygments_lexer": "ipython3",
      "version": "3.8.0"
    },
    "colab": {
      "provenance": []
    }
  },
  "nbformat": 4,
  "nbformat_minor": 0
}